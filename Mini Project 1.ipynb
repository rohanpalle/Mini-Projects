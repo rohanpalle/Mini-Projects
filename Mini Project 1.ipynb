{
 "cells": [
  {
   "cell_type": "markdown",
   "id": "957e7b08",
   "metadata": {},
   "source": [
    "# Mini Project 1\n",
    "\n",
    "**2025 Introduction to Quantiative Methods in Finance**\n",
    "\n",
    "**The Erdös Institute**\n",
    "\n",
    "**Instructions** Use current stock data to create two potentially profitable investment portfolios. One that is higher risk and one that is lower risk.\n",
    "\n",
    "-- You are to interpret and explain your interpretation of a high risk profile and low risk profile of a portfolio. You should provide some measurable quantitative data in your explanation."
   ]
  },
  {
   "cell_type": "code",
   "execution_count": 87,
   "id": "ceced76b",
   "metadata": {},
   "outputs": [
    {
     "name": "stderr",
     "output_type": "stream",
     "text": [
      "[*********************100%***********************]  6 of 6 completed\n"
     ]
    }
   ],
   "source": [
    "import numpy as np\n",
    "import pandas as pd\n",
    "import yfinance as yf\n",
    "from scipy.optimize import minimize\n",
    "import matplotlib.pyplot as plt\n",
    "\n",
    "tickers = ['AAPL', 'META', 'TSLA', 'NVDA', 'MSTR', 'PLTR']\n",
    "data = yf.download(tickers, start='2024-06-01', end='2025-06-01')['Close']\n"
   ]
  },
  {
   "cell_type": "code",
   "execution_count": 88,
   "id": "2d24ef7d",
   "metadata": {},
   "outputs": [],
   "source": [
    "returns = data.pct_change().dropna()\n",
    "\n",
    "expected_returns = {stock: 252 * np.mean(returns[stock]) for stock in tickers}\n",
    "covariance_matrix = returns.cov() * 252  \n",
    "n_assets = len(tickers)\n",
    "initial_weights = np.array([1 / n_assets] * n_assets)\n",
    "\n",
    "constraints = (\n",
    "    {'type': 'eq', 'fun': lambda w: np.sum(w) - 1},\n",
    "    {'type': 'ineq', 'fun': lambda w: min(w) - 0.10},\n",
    "    {'type': 'ineq', 'fun': lambda w: 0.35 - max(w)}\n",
    ")\n"
   ]
  },
  {
   "cell_type": "code",
   "execution_count": null,
   "id": "1f2a2d75",
   "metadata": {},
   "outputs": [],
   "source": [
    "# Low risk Function\n",
    "def portfolio_volatility(weights):\n",
    "    return np.sqrt(np.dot(weights.T, np.dot(covariance_matrix, weights)))\n",
    "\n",
    "result_low = minimize(portfolio_volatility, initial_weights, constraints=constraints)\n",
    "low_risk_weights = result_low.x\n",
    "\n",
    "volatilities = returns.std() * np.sqrt(252)\n",
    "most_volatile_asset = volatilities.idxmax()"
   ]
  },
  {
   "cell_type": "code",
   "execution_count": 90,
   "id": "0283b47b",
   "metadata": {},
   "outputs": [],
   "source": [
    "#High Risk Function\n",
    "def negative_portfolio_volatility(weights):\n",
    "    return -np.sqrt(np.dot(weights.T, np.dot(covariance_matrix, weights)))\n",
    "\n",
    "result_max_vol = minimize(negative_portfolio_volatility, initial_weights, constraints=constraints)\n",
    "max_vol_weights = result_max_vol.x"
   ]
  },
  {
   "cell_type": "code",
   "execution_count": 91,
   "id": "2253e0ad",
   "metadata": {},
   "outputs": [],
   "source": [
    "def portfolio_performance(weights):\n",
    "    port_return = np.dot(weights, [expected_returns[t] for t in tickers])\n",
    "    port_vol = portfolio_volatility(weights)\n",
    "    return port_return, port_vol\n",
    "\n",
    "low_ret, low_vol = portfolio_performance(low_risk_weights)\n",
    "max_vol_ret, max_vol_std = portfolio_performance(max_vol_weights)"
   ]
  },
  {
   "cell_type": "code",
   "execution_count": 92,
   "id": "34ae0d8d",
   "metadata": {},
   "outputs": [
    {
     "name": "stdout",
     "output_type": "stream",
     "text": [
      "\n",
      "Low-Risk Portfolio\n",
      "AAPL: 0.3500\n",
      "META: 0.2500\n",
      "TSLA: 0.1000\n",
      "NVDA: 0.1000\n",
      "MSTR: 0.1000\n",
      "PLTR: 0.1000\n",
      "Expected Return: 59.83%, Volatility: 37.82%\n",
      "\n",
      "High-Risk Portfolio\n",
      "AAPL: 0.1000\n",
      "META: 0.1000\n",
      "TSLA: 0.3500\n",
      "NVDA: 0.1002\n",
      "MSTR: 0.1002\n",
      "PLTR: 0.2497\n",
      "Expected Return: 107.06%, Volatility: 56.64%\n"
     ]
    }
   ],
   "source": [
    "print(\"\\nLow-Risk Portfolio\")\n",
    "for t, w in zip(tickers, low_risk_weights):\n",
    "    print(f\"{t}: {w:.4f}\")\n",
    "print(f\"Expected Return: {low_ret:.2%}, Volatility: {low_vol:.2%}\")\n",
    "\n",
    "\n",
    "print(\"\\nHigh-Risk Portfolio\")\n",
    "for t, w in zip(tickers, max_vol_weights):\n",
    "    print(f\"{t}: {w:.4f}\")\n",
    "print(f\"Expected Return: {max_vol_ret:.2%}, Volatility: {max_vol_std:.2%}\")\n"
   ]
  },
  {
   "cell_type": "markdown",
   "id": "c3e887ad",
   "metadata": {},
   "source": [
    "### Low-Risk Portfolio: \n",
    "### More established companies like Meta and Apple were emphasized in this portfolio, which has historically lower volatility compared to the other assets. The remaining assetrs are held at their minimum allowable weight to limit exposure to the higher risk.\n",
    "### Therefore, the portfolio aims to balance growth potential with stability by concetrating on mega-cap tech firms. The lower volatility, 37.82% , means annual portfolio value changes are expected to be smaller compared a to higher-risk setup. With this lower volatility, there is similarly a tradeoff with expected returns, where expected gains and losses would be lower.\n",
    "\n"
   ]
  },
  {
   "cell_type": "markdown",
   "id": "f50de0b3",
   "metadata": {},
   "source": [
    "### High-Risk Portfolio:\n",
    "### This portfolio maximizes exposure to stocks with historically higher price volatility, namely Tesla and Palantir. Designed for investors seeking higher potential returns, accepting significantly greater risk in terms of price fluctuations. \n",
    "### The higher volatility of 56.64% indicates a larger range of possible outcomes, both gains and losses, in any given period. It reflects a high-risk, high-reward investment philosophy focused on aggressive growth.\n"
   ]
  }
 ],
 "metadata": {
  "kernelspec": {
   "display_name": "base",
   "language": "python",
   "name": "python3"
  },
  "language_info": {
   "codemirror_mode": {
    "name": "ipython",
    "version": 3
   },
   "file_extension": ".py",
   "mimetype": "text/x-python",
   "name": "python",
   "nbconvert_exporter": "python",
   "pygments_lexer": "ipython3",
   "version": "3.12.7"
  }
 },
 "nbformat": 4,
 "nbformat_minor": 5
}
